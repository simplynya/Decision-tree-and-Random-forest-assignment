{
 "cells": [
  {
   "cell_type": "code",
   "execution_count": 3,
   "id": "7d719a2b",
   "metadata": {
    "scrolled": true
   },
   "outputs": [
    {
     "name": "stderr",
     "output_type": "stream",
     "text": [
      "\n",
      "Attaching package: 'dplyr'\n",
      "\n",
      "\n",
      "The following objects are masked from 'package:stats':\n",
      "\n",
      "    filter, lag\n",
      "\n",
      "\n",
      "The following objects are masked from 'package:base':\n",
      "\n",
      "    intersect, setdiff, setequal, union\n",
      "\n",
      "\n",
      "Loading required package: carData\n",
      "\n",
      "\n",
      "Attaching package: 'car'\n",
      "\n",
      "\n",
      "The following object is masked from 'package:dplyr':\n",
      "\n",
      "    recode\n",
      "\n",
      "\n",
      "Warning message:\n",
      "\"package 'readxl' was built under R version 4.1.3\"\n"
     ]
    }
   ],
   "source": [
    "library(\"rcompanion\")\n",
    "library(\"dplyr\")\n",
    "library(\"car\")\n",
    "library(\"readxl\")"
   ]
  },
  {
   "cell_type": "code",
   "execution_count": 4,
   "id": "4a48efa1",
   "metadata": {},
   "outputs": [],
   "source": [
    "honey = read_excel('C:/Users/wnyan/Documents/1. Entity School/7. DSO105C Intermediate Statistics/L5- Repeated Measures ANOVA/honey/honey.xlsx')"
   ]
  },
  {
   "cell_type": "code",
   "execution_count": 5,
   "id": "58a88707",
   "metadata": {},
   "outputs": [
    {
     "data": {
      "text/html": [
       "<table class=\"dataframe\">\n",
       "<caption>A tibble: 6 × 8</caption>\n",
       "<thead>\n",
       "\t<tr><th scope=col>state</th><th scope=col>numcol</th><th scope=col>yieldpercol</th><th scope=col>totalprod</th><th scope=col>stocks</th><th scope=col>priceperlb</th><th scope=col>prodvalue</th><th scope=col>year</th></tr>\n",
       "\t<tr><th scope=col>&lt;chr&gt;</th><th scope=col>&lt;dbl&gt;</th><th scope=col>&lt;dbl&gt;</th><th scope=col>&lt;dbl&gt;</th><th scope=col>&lt;dbl&gt;</th><th scope=col>&lt;dbl&gt;</th><th scope=col>&lt;dbl&gt;</th><th scope=col>&lt;dbl&gt;</th></tr>\n",
       "</thead>\n",
       "<tbody>\n",
       "\t<tr><td>AL</td><td>  9000</td><td>66</td><td>  594000</td><td> 214000</td><td>1.90</td><td> 1129000</td><td>2008</td></tr>\n",
       "\t<tr><td>AZ</td><td> 25000</td><td>64</td><td> 1600000</td><td> 336000</td><td>1.26</td><td> 2016000</td><td>2008</td></tr>\n",
       "\t<tr><td>AR</td><td> 28000</td><td>75</td><td> 2100000</td><td> 525000</td><td>1.35</td><td> 2835000</td><td>2008</td></tr>\n",
       "\t<tr><td>CA</td><td>360000</td><td>51</td><td>18360000</td><td>4039000</td><td>1.39</td><td>25520000</td><td>2008</td></tr>\n",
       "\t<tr><td>CO</td><td> 27000</td><td>45</td><td> 1215000</td><td> 656000</td><td>1.51</td><td> 1835000</td><td>2008</td></tr>\n",
       "\t<tr><td>FL</td><td>150000</td><td>79</td><td>11850000</td><td>1304000</td><td>1.32</td><td>15642000</td><td>2008</td></tr>\n",
       "</tbody>\n",
       "</table>\n"
      ],
      "text/latex": [
       "A tibble: 6 × 8\n",
       "\\begin{tabular}{llllllll}\n",
       " state & numcol & yieldpercol & totalprod & stocks & priceperlb & prodvalue & year\\\\\n",
       " <chr> & <dbl> & <dbl> & <dbl> & <dbl> & <dbl> & <dbl> & <dbl>\\\\\n",
       "\\hline\n",
       "\t AL &   9000 & 66 &   594000 &  214000 & 1.90 &  1129000 & 2008\\\\\n",
       "\t AZ &  25000 & 64 &  1600000 &  336000 & 1.26 &  2016000 & 2008\\\\\n",
       "\t AR &  28000 & 75 &  2100000 &  525000 & 1.35 &  2835000 & 2008\\\\\n",
       "\t CA & 360000 & 51 & 18360000 & 4039000 & 1.39 & 25520000 & 2008\\\\\n",
       "\t CO &  27000 & 45 &  1215000 &  656000 & 1.51 &  1835000 & 2008\\\\\n",
       "\t FL & 150000 & 79 & 11850000 & 1304000 & 1.32 & 15642000 & 2008\\\\\n",
       "\\end{tabular}\n"
      ],
      "text/markdown": [
       "\n",
       "A tibble: 6 × 8\n",
       "\n",
       "| state &lt;chr&gt; | numcol &lt;dbl&gt; | yieldpercol &lt;dbl&gt; | totalprod &lt;dbl&gt; | stocks &lt;dbl&gt; | priceperlb &lt;dbl&gt; | prodvalue &lt;dbl&gt; | year &lt;dbl&gt; |\n",
       "|---|---|---|---|---|---|---|---|\n",
       "| AL |   9000 | 66 |   594000 |  214000 | 1.90 |  1129000 | 2008 |\n",
       "| AZ |  25000 | 64 |  1600000 |  336000 | 1.26 |  2016000 | 2008 |\n",
       "| AR |  28000 | 75 |  2100000 |  525000 | 1.35 |  2835000 | 2008 |\n",
       "| CA | 360000 | 51 | 18360000 | 4039000 | 1.39 | 25520000 | 2008 |\n",
       "| CO |  27000 | 45 |  1215000 |  656000 | 1.51 |  1835000 | 2008 |\n",
       "| FL | 150000 | 79 | 11850000 | 1304000 | 1.32 | 15642000 | 2008 |\n",
       "\n"
      ],
      "text/plain": [
       "  state numcol yieldpercol totalprod stocks  priceperlb prodvalue year\n",
       "1 AL      9000 66            594000   214000 1.90        1129000  2008\n",
       "2 AZ     25000 64           1600000   336000 1.26        2016000  2008\n",
       "3 AR     28000 75           2100000   525000 1.35        2835000  2008\n",
       "4 CA    360000 51          18360000  4039000 1.39       25520000  2008\n",
       "5 CO     27000 45           1215000   656000 1.51        1835000  2008\n",
       "6 FL    150000 79          11850000  1304000 1.32       15642000  2008"
      ]
     },
     "metadata": {},
     "output_type": "display_data"
    }
   ],
   "source": [
    "head(honey)"
   ]
  },
  {
   "cell_type": "markdown",
   "id": "fd0a9c0d",
   "metadata": {},
   "source": [
    "## Question:  has honey production changed over the years?"
   ]
  },
  {
   "cell_type": "code",
   "execution_count": 5,
   "id": "b6cb11d6",
   "metadata": {},
   "outputs": [
    {
     "data": {
      "text/html": [
       "<table class=\"dataframe\">\n",
       "<caption>A tibble: 201 × 8</caption>\n",
       "<thead>\n",
       "\t<tr><th scope=col>state</th><th scope=col>numcol</th><th scope=col>yieldpercol</th><th scope=col>totalprod</th><th scope=col>stocks</th><th scope=col>priceperlb</th><th scope=col>prodvalue</th><th scope=col>year</th></tr>\n",
       "\t<tr><th scope=col>&lt;chr&gt;</th><th scope=col>&lt;dbl&gt;</th><th scope=col>&lt;dbl&gt;</th><th scope=col>&lt;dbl&gt;</th><th scope=col>&lt;dbl&gt;</th><th scope=col>&lt;dbl&gt;</th><th scope=col>&lt;dbl&gt;</th><th scope=col>&lt;dbl&gt;</th></tr>\n",
       "</thead>\n",
       "<tbody>\n",
       "\t<tr><td>AL</td><td>  9000</td><td>66</td><td>  594000</td><td> 214000</td><td>1.90</td><td> 1129000</td><td>2008</td></tr>\n",
       "\t<tr><td>AZ</td><td> 25000</td><td>64</td><td> 1600000</td><td> 336000</td><td>1.26</td><td> 2016000</td><td>2008</td></tr>\n",
       "\t<tr><td>AR</td><td> 28000</td><td>75</td><td> 2100000</td><td> 525000</td><td>1.35</td><td> 2835000</td><td>2008</td></tr>\n",
       "\t<tr><td>CA</td><td>360000</td><td>51</td><td>18360000</td><td>4039000</td><td>1.39</td><td>25520000</td><td>2008</td></tr>\n",
       "\t<tr><td>CO</td><td> 27000</td><td>45</td><td> 1215000</td><td> 656000</td><td>1.51</td><td> 1835000</td><td>2008</td></tr>\n",
       "\t<tr><td>FL</td><td>150000</td><td>79</td><td>11850000</td><td>1304000</td><td>1.32</td><td>15642000</td><td>2008</td></tr>\n",
       "\t<tr><td>GA</td><td> 65000</td><td>71</td><td> 4615000</td><td> 369000</td><td>1.52</td><td> 7015000</td><td>2008</td></tr>\n",
       "\t<tr><td>HI</td><td> 10000</td><td>90</td><td>  900000</td><td> 225000</td><td>1.59</td><td> 1431000</td><td>2008</td></tr>\n",
       "\t<tr><td>ID</td><td> 90000</td><td>40</td><td> 3600000</td><td>1440000</td><td>1.46</td><td> 5256000</td><td>2008</td></tr>\n",
       "\t<tr><td>IL</td><td>  8000</td><td>56</td><td>  448000</td><td> 116000</td><td>2.59</td><td> 1160000</td><td>2008</td></tr>\n",
       "\t<tr><td>IN</td><td>  7000</td><td>67</td><td>  469000</td><td> 150000</td><td>1.68</td><td>  788000</td><td>2008</td></tr>\n",
       "\t<tr><td>IA</td><td> 24000</td><td>62</td><td> 1488000</td><td> 580000</td><td>1.58</td><td> 2351000</td><td>2008</td></tr>\n",
       "\t<tr><td>KS</td><td> 10000</td><td>61</td><td>  610000</td><td> 128000</td><td>1.55</td><td>  946000</td><td>2008</td></tr>\n",
       "\t<tr><td>KY</td><td>  4000</td><td>39</td><td>  156000</td><td>  27000</td><td>2.44</td><td>  381000</td><td>2008</td></tr>\n",
       "\t<tr><td>LA</td><td> 40000</td><td>77</td><td> 3080000</td><td> 493000</td><td>1.36</td><td> 4189000</td><td>2008</td></tr>\n",
       "\t<tr><td>ME</td><td>  7000</td><td>42</td><td>  294000</td><td>  79000</td><td>1.57</td><td>  462000</td><td>2008</td></tr>\n",
       "\t<tr><td>MI</td><td> 71000</td><td>73</td><td> 5183000</td><td>2021000</td><td>1.44</td><td> 7464000</td><td>2008</td></tr>\n",
       "\t<tr><td>MN</td><td>122000</td><td>78</td><td> 9516000</td><td>2569000</td><td>1.39</td><td>13227000</td><td>2008</td></tr>\n",
       "\t<tr><td>MS</td><td> 14000</td><td>98</td><td> 1372000</td><td> 110000</td><td>1.30</td><td> 1784000</td><td>2008</td></tr>\n",
       "\t<tr><td>MO</td><td> 11000</td><td>53</td><td>  583000</td><td> 152000</td><td>1.68</td><td>  979000</td><td>2008</td></tr>\n",
       "\t<tr><td>MT</td><td>134000</td><td>70</td><td> 9380000</td><td>4596000</td><td>1.37</td><td>12851000</td><td>2008</td></tr>\n",
       "\t<tr><td>NE</td><td> 36000</td><td>67</td><td> 2412000</td><td>1254000</td><td>1.45</td><td> 3497000</td><td>2008</td></tr>\n",
       "\t<tr><td>NV</td><td> 10000</td><td>29</td><td>  290000</td><td>  52000</td><td>1.42</td><td>  412000</td><td>2008</td></tr>\n",
       "\t<tr><td>NJ</td><td>  9000</td><td>40</td><td>  360000</td><td> 122000</td><td>1.62</td><td>  583000</td><td>2008</td></tr>\n",
       "\t<tr><td>NM</td><td>  6000</td><td>48</td><td>  288000</td><td>  95000</td><td>1.48</td><td>  426000</td><td>2008</td></tr>\n",
       "\t<tr><td>NY</td><td> 50000</td><td>70</td><td> 3500000</td><td>1260000</td><td>1.65</td><td> 5775000</td><td>2008</td></tr>\n",
       "\t<tr><td>NC</td><td> 12000</td><td>52</td><td>  624000</td><td> 137000</td><td>2.18</td><td> 1360000</td><td>2008</td></tr>\n",
       "\t<tr><td>ND</td><td>400000</td><td>90</td><td>36000000</td><td>8640000</td><td>1.36</td><td>48960000</td><td>2008</td></tr>\n",
       "\t<tr><td>OH</td><td> 14000</td><td>53</td><td>  742000</td><td> 371000</td><td>1.68</td><td> 1247000</td><td>2008</td></tr>\n",
       "\t<tr><td>OR</td><td> 50000</td><td>43</td><td> 2150000</td><td>1097000</td><td>1.41</td><td> 3032000</td><td>2008</td></tr>\n",
       "\t<tr><td>...</td><td>...</td><td>...</td><td>...</td><td>...</td><td>...</td><td>...</td><td>...</td></tr>\n",
       "\t<tr><td>IN</td><td>  8000</td><td> 59</td><td>  472000</td><td> 203000</td><td>2.54</td><td> 1199000</td><td>2012</td></tr>\n",
       "\t<tr><td>IA</td><td> 37000</td><td> 61</td><td> 2257000</td><td>1196000</td><td>2.17</td><td> 4898000</td><td>2012</td></tr>\n",
       "\t<tr><td>KS</td><td>  6000</td><td> 55</td><td>  330000</td><td> 125000</td><td>2.28</td><td>  752000</td><td>2012</td></tr>\n",
       "\t<tr><td>KY</td><td>  5000</td><td> 51</td><td>  255000</td><td>  41000</td><td>3.15</td><td>  803000</td><td>2012</td></tr>\n",
       "\t<tr><td>LA</td><td> 41000</td><td> 86</td><td> 3526000</td><td> 141000</td><td>1.83</td><td> 6453000</td><td>2012</td></tr>\n",
       "\t<tr><td>ME</td><td>  4000</td><td> 34</td><td>  136000</td><td>  24000</td><td>2.39</td><td>  325000</td><td>2012</td></tr>\n",
       "\t<tr><td>MI</td><td> 73000</td><td> 57</td><td> 4161000</td><td>1332000</td><td>2.03</td><td> 8447000</td><td>2012</td></tr>\n",
       "\t<tr><td>MN</td><td>125000</td><td> 67</td><td> 8375000</td><td>1591000</td><td>1.92</td><td>16080000</td><td>2012</td></tr>\n",
       "\t<tr><td>MS</td><td> 18000</td><td>118</td><td> 2124000</td><td>  64000</td><td>1.77</td><td> 3759000</td><td>2012</td></tr>\n",
       "\t<tr><td>MO</td><td>  7000</td><td> 53</td><td>  371000</td><td> 108000</td><td>2.80</td><td> 1039000</td><td>2012</td></tr>\n",
       "\t<tr><td>MT</td><td>145000</td><td> 52</td><td> 7540000</td><td>2413000</td><td>1.95</td><td>14703000</td><td>2012</td></tr>\n",
       "\t<tr><td>NE</td><td> 43000</td><td> 65</td><td> 2795000</td><td>1146000</td><td>1.93</td><td> 5394000</td><td>2012</td></tr>\n",
       "\t<tr><td>NJ</td><td> 14000</td><td> 33</td><td>  462000</td><td>  51000</td><td>1.97</td><td>  910000</td><td>2012</td></tr>\n",
       "\t<tr><td>NM</td><td>  5000</td><td> 52</td><td>  260000</td><td>  99000</td><td>3.39</td><td>  881000</td><td>2012</td></tr>\n",
       "\t<tr><td>NY</td><td> 51000</td><td> 51</td><td> 2601000</td><td> 988000</td><td>2.23</td><td> 5800000</td><td>2012</td></tr>\n",
       "\t<tr><td>NC</td><td> 13000</td><td> 39</td><td>  507000</td><td> 106000</td><td>3.76</td><td> 1906000</td><td>2012</td></tr>\n",
       "\t<tr><td>ND</td><td>480000</td><td> 69</td><td>33120000</td><td>5962000</td><td>1.92</td><td>63590000</td><td>2012</td></tr>\n",
       "\t<tr><td>OH</td><td> 18000</td><td> 60</td><td> 1080000</td><td> 410000</td><td>2.46</td><td> 2657000</td><td>2012</td></tr>\n",
       "\t<tr><td>OR</td><td> 60000</td><td> 32</td><td> 1920000</td><td> 845000</td><td>2.16</td><td> 4147000</td><td>2012</td></tr>\n",
       "\t<tr><td>PA</td><td> 16000</td><td> 60</td><td>  960000</td><td> 269000</td><td>2.57</td><td> 2467000</td><td>2012</td></tr>\n",
       "\t<tr><td>SD</td><td>260000</td><td> 63</td><td>16380000</td><td>3604000</td><td>1.95</td><td>31941000</td><td>2012</td></tr>\n",
       "\t<tr><td>TN</td><td>  6000</td><td> 61</td><td>  366000</td><td>  59000</td><td>2.93</td><td> 1072000</td><td>2012</td></tr>\n",
       "\t<tr><td>TX</td><td> 92000</td><td> 52</td><td> 4784000</td><td> 718000</td><td>2.00</td><td> 9568000</td><td>2012</td></tr>\n",
       "\t<tr><td>UT</td><td> 25000</td><td> 38</td><td>  950000</td><td> 209000</td><td>1.87</td><td> 1777000</td><td>2012</td></tr>\n",
       "\t<tr><td>VT</td><td>  4000</td><td> 60</td><td>  240000</td><td>  53000</td><td>2.39</td><td>  574000</td><td>2012</td></tr>\n",
       "\t<tr><td>VA</td><td>  4000</td><td> 41</td><td>  164000</td><td>  23000</td><td>3.77</td><td>  618000</td><td>2012</td></tr>\n",
       "\t<tr><td>WA</td><td> 62000</td><td> 41</td><td> 2542000</td><td>1017000</td><td>2.38</td><td> 6050000</td><td>2012</td></tr>\n",
       "\t<tr><td>WV</td><td>  6000</td><td> 48</td><td>  288000</td><td>  95000</td><td>2.91</td><td>  838000</td><td>2012</td></tr>\n",
       "\t<tr><td>WI</td><td> 60000</td><td> 69</td><td> 4140000</td><td>1863000</td><td>2.05</td><td> 8487000</td><td>2012</td></tr>\n",
       "\t<tr><td>WY</td><td> 50000</td><td> 51</td><td> 2550000</td><td> 459000</td><td>1.87</td><td> 4769000</td><td>2012</td></tr>\n",
       "</tbody>\n",
       "</table>\n"
      ],
      "text/latex": [
       "A tibble: 201 × 8\n",
       "\\begin{tabular}{llllllll}\n",
       " state & numcol & yieldpercol & totalprod & stocks & priceperlb & prodvalue & year\\\\\n",
       " <chr> & <dbl> & <dbl> & <dbl> & <dbl> & <dbl> & <dbl> & <dbl>\\\\\n",
       "\\hline\n",
       "\t AL &   9000 & 66 &   594000 &  214000 & 1.90 &  1129000 & 2008\\\\\n",
       "\t AZ &  25000 & 64 &  1600000 &  336000 & 1.26 &  2016000 & 2008\\\\\n",
       "\t AR &  28000 & 75 &  2100000 &  525000 & 1.35 &  2835000 & 2008\\\\\n",
       "\t CA & 360000 & 51 & 18360000 & 4039000 & 1.39 & 25520000 & 2008\\\\\n",
       "\t CO &  27000 & 45 &  1215000 &  656000 & 1.51 &  1835000 & 2008\\\\\n",
       "\t FL & 150000 & 79 & 11850000 & 1304000 & 1.32 & 15642000 & 2008\\\\\n",
       "\t GA &  65000 & 71 &  4615000 &  369000 & 1.52 &  7015000 & 2008\\\\\n",
       "\t HI &  10000 & 90 &   900000 &  225000 & 1.59 &  1431000 & 2008\\\\\n",
       "\t ID &  90000 & 40 &  3600000 & 1440000 & 1.46 &  5256000 & 2008\\\\\n",
       "\t IL &   8000 & 56 &   448000 &  116000 & 2.59 &  1160000 & 2008\\\\\n",
       "\t IN &   7000 & 67 &   469000 &  150000 & 1.68 &   788000 & 2008\\\\\n",
       "\t IA &  24000 & 62 &  1488000 &  580000 & 1.58 &  2351000 & 2008\\\\\n",
       "\t KS &  10000 & 61 &   610000 &  128000 & 1.55 &   946000 & 2008\\\\\n",
       "\t KY &   4000 & 39 &   156000 &   27000 & 2.44 &   381000 & 2008\\\\\n",
       "\t LA &  40000 & 77 &  3080000 &  493000 & 1.36 &  4189000 & 2008\\\\\n",
       "\t ME &   7000 & 42 &   294000 &   79000 & 1.57 &   462000 & 2008\\\\\n",
       "\t MI &  71000 & 73 &  5183000 & 2021000 & 1.44 &  7464000 & 2008\\\\\n",
       "\t MN & 122000 & 78 &  9516000 & 2569000 & 1.39 & 13227000 & 2008\\\\\n",
       "\t MS &  14000 & 98 &  1372000 &  110000 & 1.30 &  1784000 & 2008\\\\\n",
       "\t MO &  11000 & 53 &   583000 &  152000 & 1.68 &   979000 & 2008\\\\\n",
       "\t MT & 134000 & 70 &  9380000 & 4596000 & 1.37 & 12851000 & 2008\\\\\n",
       "\t NE &  36000 & 67 &  2412000 & 1254000 & 1.45 &  3497000 & 2008\\\\\n",
       "\t NV &  10000 & 29 &   290000 &   52000 & 1.42 &   412000 & 2008\\\\\n",
       "\t NJ &   9000 & 40 &   360000 &  122000 & 1.62 &   583000 & 2008\\\\\n",
       "\t NM &   6000 & 48 &   288000 &   95000 & 1.48 &   426000 & 2008\\\\\n",
       "\t NY &  50000 & 70 &  3500000 & 1260000 & 1.65 &  5775000 & 2008\\\\\n",
       "\t NC &  12000 & 52 &   624000 &  137000 & 2.18 &  1360000 & 2008\\\\\n",
       "\t ND & 400000 & 90 & 36000000 & 8640000 & 1.36 & 48960000 & 2008\\\\\n",
       "\t OH &  14000 & 53 &   742000 &  371000 & 1.68 &  1247000 & 2008\\\\\n",
       "\t OR &  50000 & 43 &  2150000 & 1097000 & 1.41 &  3032000 & 2008\\\\\n",
       "\t ... & ... & ... & ... & ... & ... & ... & ...\\\\\n",
       "\t IN &   8000 &  59 &   472000 &  203000 & 2.54 &  1199000 & 2012\\\\\n",
       "\t IA &  37000 &  61 &  2257000 & 1196000 & 2.17 &  4898000 & 2012\\\\\n",
       "\t KS &   6000 &  55 &   330000 &  125000 & 2.28 &   752000 & 2012\\\\\n",
       "\t KY &   5000 &  51 &   255000 &   41000 & 3.15 &   803000 & 2012\\\\\n",
       "\t LA &  41000 &  86 &  3526000 &  141000 & 1.83 &  6453000 & 2012\\\\\n",
       "\t ME &   4000 &  34 &   136000 &   24000 & 2.39 &   325000 & 2012\\\\\n",
       "\t MI &  73000 &  57 &  4161000 & 1332000 & 2.03 &  8447000 & 2012\\\\\n",
       "\t MN & 125000 &  67 &  8375000 & 1591000 & 1.92 & 16080000 & 2012\\\\\n",
       "\t MS &  18000 & 118 &  2124000 &   64000 & 1.77 &  3759000 & 2012\\\\\n",
       "\t MO &   7000 &  53 &   371000 &  108000 & 2.80 &  1039000 & 2012\\\\\n",
       "\t MT & 145000 &  52 &  7540000 & 2413000 & 1.95 & 14703000 & 2012\\\\\n",
       "\t NE &  43000 &  65 &  2795000 & 1146000 & 1.93 &  5394000 & 2012\\\\\n",
       "\t NJ &  14000 &  33 &   462000 &   51000 & 1.97 &   910000 & 2012\\\\\n",
       "\t NM &   5000 &  52 &   260000 &   99000 & 3.39 &   881000 & 2012\\\\\n",
       "\t NY &  51000 &  51 &  2601000 &  988000 & 2.23 &  5800000 & 2012\\\\\n",
       "\t NC &  13000 &  39 &   507000 &  106000 & 3.76 &  1906000 & 2012\\\\\n",
       "\t ND & 480000 &  69 & 33120000 & 5962000 & 1.92 & 63590000 & 2012\\\\\n",
       "\t OH &  18000 &  60 &  1080000 &  410000 & 2.46 &  2657000 & 2012\\\\\n",
       "\t OR &  60000 &  32 &  1920000 &  845000 & 2.16 &  4147000 & 2012\\\\\n",
       "\t PA &  16000 &  60 &   960000 &  269000 & 2.57 &  2467000 & 2012\\\\\n",
       "\t SD & 260000 &  63 & 16380000 & 3604000 & 1.95 & 31941000 & 2012\\\\\n",
       "\t TN &   6000 &  61 &   366000 &   59000 & 2.93 &  1072000 & 2012\\\\\n",
       "\t TX &  92000 &  52 &  4784000 &  718000 & 2.00 &  9568000 & 2012\\\\\n",
       "\t UT &  25000 &  38 &   950000 &  209000 & 1.87 &  1777000 & 2012\\\\\n",
       "\t VT &   4000 &  60 &   240000 &   53000 & 2.39 &   574000 & 2012\\\\\n",
       "\t VA &   4000 &  41 &   164000 &   23000 & 3.77 &   618000 & 2012\\\\\n",
       "\t WA &  62000 &  41 &  2542000 & 1017000 & 2.38 &  6050000 & 2012\\\\\n",
       "\t WV &   6000 &  48 &   288000 &   95000 & 2.91 &   838000 & 2012\\\\\n",
       "\t WI &  60000 &  69 &  4140000 & 1863000 & 2.05 &  8487000 & 2012\\\\\n",
       "\t WY &  50000 &  51 &  2550000 &  459000 & 1.87 &  4769000 & 2012\\\\\n",
       "\\end{tabular}\n"
      ],
      "text/markdown": [
       "\n",
       "A tibble: 201 × 8\n",
       "\n",
       "| state &lt;chr&gt; | numcol &lt;dbl&gt; | yieldpercol &lt;dbl&gt; | totalprod &lt;dbl&gt; | stocks &lt;dbl&gt; | priceperlb &lt;dbl&gt; | prodvalue &lt;dbl&gt; | year &lt;dbl&gt; |\n",
       "|---|---|---|---|---|---|---|---|\n",
       "| AL |   9000 | 66 |   594000 |  214000 | 1.90 |  1129000 | 2008 |\n",
       "| AZ |  25000 | 64 |  1600000 |  336000 | 1.26 |  2016000 | 2008 |\n",
       "| AR |  28000 | 75 |  2100000 |  525000 | 1.35 |  2835000 | 2008 |\n",
       "| CA | 360000 | 51 | 18360000 | 4039000 | 1.39 | 25520000 | 2008 |\n",
       "| CO |  27000 | 45 |  1215000 |  656000 | 1.51 |  1835000 | 2008 |\n",
       "| FL | 150000 | 79 | 11850000 | 1304000 | 1.32 | 15642000 | 2008 |\n",
       "| GA |  65000 | 71 |  4615000 |  369000 | 1.52 |  7015000 | 2008 |\n",
       "| HI |  10000 | 90 |   900000 |  225000 | 1.59 |  1431000 | 2008 |\n",
       "| ID |  90000 | 40 |  3600000 | 1440000 | 1.46 |  5256000 | 2008 |\n",
       "| IL |   8000 | 56 |   448000 |  116000 | 2.59 |  1160000 | 2008 |\n",
       "| IN |   7000 | 67 |   469000 |  150000 | 1.68 |   788000 | 2008 |\n",
       "| IA |  24000 | 62 |  1488000 |  580000 | 1.58 |  2351000 | 2008 |\n",
       "| KS |  10000 | 61 |   610000 |  128000 | 1.55 |   946000 | 2008 |\n",
       "| KY |   4000 | 39 |   156000 |   27000 | 2.44 |   381000 | 2008 |\n",
       "| LA |  40000 | 77 |  3080000 |  493000 | 1.36 |  4189000 | 2008 |\n",
       "| ME |   7000 | 42 |   294000 |   79000 | 1.57 |   462000 | 2008 |\n",
       "| MI |  71000 | 73 |  5183000 | 2021000 | 1.44 |  7464000 | 2008 |\n",
       "| MN | 122000 | 78 |  9516000 | 2569000 | 1.39 | 13227000 | 2008 |\n",
       "| MS |  14000 | 98 |  1372000 |  110000 | 1.30 |  1784000 | 2008 |\n",
       "| MO |  11000 | 53 |   583000 |  152000 | 1.68 |   979000 | 2008 |\n",
       "| MT | 134000 | 70 |  9380000 | 4596000 | 1.37 | 12851000 | 2008 |\n",
       "| NE |  36000 | 67 |  2412000 | 1254000 | 1.45 |  3497000 | 2008 |\n",
       "| NV |  10000 | 29 |   290000 |   52000 | 1.42 |   412000 | 2008 |\n",
       "| NJ |   9000 | 40 |   360000 |  122000 | 1.62 |   583000 | 2008 |\n",
       "| NM |   6000 | 48 |   288000 |   95000 | 1.48 |   426000 | 2008 |\n",
       "| NY |  50000 | 70 |  3500000 | 1260000 | 1.65 |  5775000 | 2008 |\n",
       "| NC |  12000 | 52 |   624000 |  137000 | 2.18 |  1360000 | 2008 |\n",
       "| ND | 400000 | 90 | 36000000 | 8640000 | 1.36 | 48960000 | 2008 |\n",
       "| OH |  14000 | 53 |   742000 |  371000 | 1.68 |  1247000 | 2008 |\n",
       "| OR |  50000 | 43 |  2150000 | 1097000 | 1.41 |  3032000 | 2008 |\n",
       "| ... | ... | ... | ... | ... | ... | ... | ... |\n",
       "| IN |   8000 |  59 |   472000 |  203000 | 2.54 |  1199000 | 2012 |\n",
       "| IA |  37000 |  61 |  2257000 | 1196000 | 2.17 |  4898000 | 2012 |\n",
       "| KS |   6000 |  55 |   330000 |  125000 | 2.28 |   752000 | 2012 |\n",
       "| KY |   5000 |  51 |   255000 |   41000 | 3.15 |   803000 | 2012 |\n",
       "| LA |  41000 |  86 |  3526000 |  141000 | 1.83 |  6453000 | 2012 |\n",
       "| ME |   4000 |  34 |   136000 |   24000 | 2.39 |   325000 | 2012 |\n",
       "| MI |  73000 |  57 |  4161000 | 1332000 | 2.03 |  8447000 | 2012 |\n",
       "| MN | 125000 |  67 |  8375000 | 1591000 | 1.92 | 16080000 | 2012 |\n",
       "| MS |  18000 | 118 |  2124000 |   64000 | 1.77 |  3759000 | 2012 |\n",
       "| MO |   7000 |  53 |   371000 |  108000 | 2.80 |  1039000 | 2012 |\n",
       "| MT | 145000 |  52 |  7540000 | 2413000 | 1.95 | 14703000 | 2012 |\n",
       "| NE |  43000 |  65 |  2795000 | 1146000 | 1.93 |  5394000 | 2012 |\n",
       "| NJ |  14000 |  33 |   462000 |   51000 | 1.97 |   910000 | 2012 |\n",
       "| NM |   5000 |  52 |   260000 |   99000 | 3.39 |   881000 | 2012 |\n",
       "| NY |  51000 |  51 |  2601000 |  988000 | 2.23 |  5800000 | 2012 |\n",
       "| NC |  13000 |  39 |   507000 |  106000 | 3.76 |  1906000 | 2012 |\n",
       "| ND | 480000 |  69 | 33120000 | 5962000 | 1.92 | 63590000 | 2012 |\n",
       "| OH |  18000 |  60 |  1080000 |  410000 | 2.46 |  2657000 | 2012 |\n",
       "| OR |  60000 |  32 |  1920000 |  845000 | 2.16 |  4147000 | 2012 |\n",
       "| PA |  16000 |  60 |   960000 |  269000 | 2.57 |  2467000 | 2012 |\n",
       "| SD | 260000 |  63 | 16380000 | 3604000 | 1.95 | 31941000 | 2012 |\n",
       "| TN |   6000 |  61 |   366000 |   59000 | 2.93 |  1072000 | 2012 |\n",
       "| TX |  92000 |  52 |  4784000 |  718000 | 2.00 |  9568000 | 2012 |\n",
       "| UT |  25000 |  38 |   950000 |  209000 | 1.87 |  1777000 | 2012 |\n",
       "| VT |   4000 |  60 |   240000 |   53000 | 2.39 |   574000 | 2012 |\n",
       "| VA |   4000 |  41 |   164000 |   23000 | 3.77 |   618000 | 2012 |\n",
       "| WA |  62000 |  41 |  2542000 | 1017000 | 2.38 |  6050000 | 2012 |\n",
       "| WV |   6000 |  48 |   288000 |   95000 | 2.91 |   838000 | 2012 |\n",
       "| WI |  60000 |  69 |  4140000 | 1863000 | 2.05 |  8487000 | 2012 |\n",
       "| WY |  50000 |  51 |  2550000 |  459000 | 1.87 |  4769000 | 2012 |\n",
       "\n"
      ],
      "text/plain": [
       "    state numcol yieldpercol totalprod stocks  priceperlb prodvalue year\n",
       "1   AL      9000 66            594000   214000 1.90        1129000  2008\n",
       "2   AZ     25000 64           1600000   336000 1.26        2016000  2008\n",
       "3   AR     28000 75           2100000   525000 1.35        2835000  2008\n",
       "4   CA    360000 51          18360000  4039000 1.39       25520000  2008\n",
       "5   CO     27000 45           1215000   656000 1.51        1835000  2008\n",
       "6   FL    150000 79          11850000  1304000 1.32       15642000  2008\n",
       "7   GA     65000 71           4615000   369000 1.52        7015000  2008\n",
       "8   HI     10000 90            900000   225000 1.59        1431000  2008\n",
       "9   ID     90000 40           3600000  1440000 1.46        5256000  2008\n",
       "10  IL      8000 56            448000   116000 2.59        1160000  2008\n",
       "11  IN      7000 67            469000   150000 1.68         788000  2008\n",
       "12  IA     24000 62           1488000   580000 1.58        2351000  2008\n",
       "13  KS     10000 61            610000   128000 1.55         946000  2008\n",
       "14  KY      4000 39            156000    27000 2.44         381000  2008\n",
       "15  LA     40000 77           3080000   493000 1.36        4189000  2008\n",
       "16  ME      7000 42            294000    79000 1.57         462000  2008\n",
       "17  MI     71000 73           5183000  2021000 1.44        7464000  2008\n",
       "18  MN    122000 78           9516000  2569000 1.39       13227000  2008\n",
       "19  MS     14000 98           1372000   110000 1.30        1784000  2008\n",
       "20  MO     11000 53            583000   152000 1.68         979000  2008\n",
       "21  MT    134000 70           9380000  4596000 1.37       12851000  2008\n",
       "22  NE     36000 67           2412000  1254000 1.45        3497000  2008\n",
       "23  NV     10000 29            290000    52000 1.42         412000  2008\n",
       "24  NJ      9000 40            360000   122000 1.62         583000  2008\n",
       "25  NM      6000 48            288000    95000 1.48         426000  2008\n",
       "26  NY     50000 70           3500000  1260000 1.65        5775000  2008\n",
       "27  NC     12000 52            624000   137000 2.18        1360000  2008\n",
       "28  ND    400000 90          36000000  8640000 1.36       48960000  2008\n",
       "29  OH     14000 53            742000   371000 1.68        1247000  2008\n",
       "30  OR     50000 43           2150000  1097000 1.41        3032000  2008\n",
       "... ...   ...    ...         ...       ...     ...        ...       ... \n",
       "172 IN      8000  59           472000   203000 2.54        1199000  2012\n",
       "173 IA     37000  61          2257000  1196000 2.17        4898000  2012\n",
       "174 KS      6000  55           330000   125000 2.28         752000  2012\n",
       "175 KY      5000  51           255000    41000 3.15         803000  2012\n",
       "176 LA     41000  86          3526000   141000 1.83        6453000  2012\n",
       "177 ME      4000  34           136000    24000 2.39         325000  2012\n",
       "178 MI     73000  57          4161000  1332000 2.03        8447000  2012\n",
       "179 MN    125000  67          8375000  1591000 1.92       16080000  2012\n",
       "180 MS     18000 118          2124000    64000 1.77        3759000  2012\n",
       "181 MO      7000  53           371000   108000 2.80        1039000  2012\n",
       "182 MT    145000  52          7540000  2413000 1.95       14703000  2012\n",
       "183 NE     43000  65          2795000  1146000 1.93        5394000  2012\n",
       "184 NJ     14000  33           462000    51000 1.97         910000  2012\n",
       "185 NM      5000  52           260000    99000 3.39         881000  2012\n",
       "186 NY     51000  51          2601000   988000 2.23        5800000  2012\n",
       "187 NC     13000  39           507000   106000 3.76        1906000  2012\n",
       "188 ND    480000  69         33120000  5962000 1.92       63590000  2012\n",
       "189 OH     18000  60          1080000   410000 2.46        2657000  2012\n",
       "190 OR     60000  32          1920000   845000 2.16        4147000  2012\n",
       "191 PA     16000  60           960000   269000 2.57        2467000  2012\n",
       "192 SD    260000  63         16380000  3604000 1.95       31941000  2012\n",
       "193 TN      6000  61           366000    59000 2.93        1072000  2012\n",
       "194 TX     92000  52          4784000   718000 2.00        9568000  2012\n",
       "195 UT     25000  38           950000   209000 1.87        1777000  2012\n",
       "196 VT      4000  60           240000    53000 2.39         574000  2012\n",
       "197 VA      4000  41           164000    23000 3.77         618000  2012\n",
       "198 WA     62000  41          2542000  1017000 2.38        6050000  2012\n",
       "199 WV      6000  48           288000    95000 2.91         838000  2012\n",
       "200 WI     60000  69          4140000  1863000 2.05        8487000  2012\n",
       "201 WY     50000  51          2550000   459000 1.87        4769000  2012"
      ]
     },
     "metadata": {},
     "output_type": "display_data"
    }
   ],
   "source": [
    "honey"
   ]
  },
  {
   "cell_type": "markdown",
   "id": "fdaf079c",
   "metadata": {},
   "source": [
    "#### I will need with this the code is not working. "
   ]
  },
  {
   "cell_type": "markdown",
   "id": "ff5adf94",
   "metadata": {},
   "source": [
    "### Data Wrangling"
   ]
  },
  {
   "cell_type": "code",
   "execution_count": 6,
   "id": "7a747aac",
   "metadata": {},
   "outputs": [],
   "source": [
    "keeps <- c(\"totalprod\", \"year\", \"state\")\n",
    "honey1 <- honey[keeps]"
   ]
  },
  {
   "cell_type": "code",
   "execution_count": 20,
   "id": "e1220ce7",
   "metadata": {},
   "outputs": [
    {
     "ename": "ERROR",
     "evalue": "\u001b[1m\u001b[33mError\u001b[39m in \u001b[1m\u001b[1m\u001b[30m\u001b[47m\u001b[30m\u001b[47m`stop_subscript()`\u001b[47m\u001b[30m\u001b[49m\u001b[39m:\u001b[22m\n\u001b[33m!\u001b[39m Can't subset columns that don't exist.\n\u001b[31mx\u001b[39m Location 5 doesn't exist.\n\u001b[34mi\u001b[39m There are only 4 columns.\n",
     "output_type": "error",
     "traceback": [
      "\u001b[1m\u001b[33mError\u001b[39m in \u001b[1m\u001b[1m\u001b[30m\u001b[47m\u001b[30m\u001b[47m`stop_subscript()`\u001b[47m\u001b[30m\u001b[49m\u001b[39m:\u001b[22m\n\u001b[33m!\u001b[39m Can't subset columns that don't exist.\n\u001b[31mx\u001b[39m Location 5 doesn't exist.\n\u001b[34mi\u001b[39m There are only 4 columns.\nTraceback:\n",
      "1. honey1[, 1:5]",
      "2. `[.tbl_df`(honey1, , 1:5)",
      "3. vectbl_as_col_location(j, length(x), names(x), j_arg = j_arg, \n .     assign = FALSE)",
      "4. subclass_col_index_errors(vec_as_location(j, n, names), j_arg = j_arg, \n .     assign = assign)",
      "5. withCallingHandlers(expr, vctrs_error_subscript = function(cnd) {\n .     cnd$subscript_arg <- j_arg\n .     cnd$subscript_elt <- \"column\"\n .     if (isTRUE(assign) && !isTRUE(cnd$subscript_action %in% c(\"negate\"))) {\n .         cnd$subscript_action <- \"assign\"\n .     }\n .     cnd_signal(cnd)\n . })",
      "6. vec_as_location(j, n, names)",
      "7. (function () \n . stop_subscript_oob(i = i, subscript_type = subscript_type, size = size, \n .     subscript_action = subscript_action, subscript_arg = subscript_arg))()",
      "8. stop_subscript_oob(i = i, subscript_type = subscript_type, size = size, \n .     subscript_action = subscript_action, subscript_arg = subscript_arg)",
      "9. stop_subscript(class = \"vctrs_error_subscript_oob\", i = i, subscript_type = subscript_type, \n .     ...)",
      "10. abort(class = c(class, \"vctrs_error_subscript\"), i = i, ...)",
      "11. signal_abort(cnd, .file)",
      "12. signalCondition(cnd)",
      "13. (function (cnd) \n  . {\n  .     cnd$subscript_arg <- j_arg\n  .     cnd$subscript_elt <- \"column\"\n  .     if (isTRUE(assign) && !isTRUE(cnd$subscript_action %in% c(\"negate\"))) {\n  .         cnd$subscript_action <- \"assign\"\n  .     }\n  .     cnd_signal(cnd)\n  . })(structure(list(message = \"\", trace = structure(list(call = list(\n  .     IRkernel::main(), kernel$run(), handle_shell(), executor$execute(msg), \n  .     tryCatch(evaluate(request$content$code, envir = .GlobalEnv, \n  .         output_handler = oh, stop_on_error = 1L), interrupt = function(cond) {\n  .         log_debug(\"Interrupt during execution\")\n  .         interrupted <<- TRUE\n  .     }, error = .self$handle_error), tryCatchList(expr, classes, \n  .         parentenv, handlers), tryCatchOne(tryCatchList(expr, \n  .         names[-nh], parentenv, handlers[-nh]), names[nh], parentenv, \n  .         handlers[[nh]]), doTryCatch(return(expr), name, parentenv, \n  .         handler), tryCatchList(expr, names[-nh], parentenv, handlers[-nh]), \n  .     tryCatchOne(expr, names, parentenv, handlers[[1L]]), doTryCatch(return(expr), \n  .         name, parentenv, handler), evaluate(request$content$code, \n  .         envir = .GlobalEnv, output_handler = oh, stop_on_error = 1L), \n  .     evaluate_call(expr, parsed$src[[i]], envir = envir, enclos = enclos, \n  .         debug = debug, last = i == length(out), use_try = stop_on_error != \n  .             2L, keep_warning = keep_warning, keep_message = keep_message, \n  .         output_handler = output_handler, include_timing = include_timing), \n  .     timing_fn(handle(ev <- withCallingHandlers(withVisible(eval(expr, \n  .         envir, enclos)), warning = wHandler, error = eHandler, \n  .         message = mHandler))), handle(ev <- withCallingHandlers(withVisible(eval(expr, \n  .         envir, enclos)), warning = wHandler, error = eHandler, \n  .         message = mHandler)), try(f, silent = TRUE), tryCatch(expr, \n  .         error = function(e) {\n  .             call <- conditionCall(e)\n  .             if (!is.null(call)) {\n  .                 if (identical(call[[1L]], quote(doTryCatch))) \n  .                   call <- sys.call(-4L)\n  .                 dcall <- deparse(call)[1L]\n  .                 prefix <- paste(\"Error in\", dcall, \": \")\n  .                 LONG <- 75L\n  .                 sm <- strsplit(conditionMessage(e), \"\\n\")[[1L]]\n  .                 w <- 14L + nchar(dcall, type = \"w\") + nchar(sm[1L], \n  .                   type = \"w\")\n  .                 if (is.na(w)) \n  .                   w <- 14L + nchar(dcall, type = \"b\") + nchar(sm[1L], \n  .                     type = \"b\")\n  .                 if (w > LONG) \n  .                   prefix <- paste0(prefix, \"\\n  \")\n  .             }\n  .             else prefix <- \"Error : \"\n  .             msg <- paste0(prefix, conditionMessage(e), \"\\n\")\n  .             .Internal(seterrmessage(msg[1L]))\n  .             if (!silent && isTRUE(getOption(\"show.error.messages\"))) {\n  .                 cat(msg, file = outFile)\n  .                 .Internal(printDeferredWarnings())\n  .             }\n  .             invisible(structure(msg, class = \"try-error\", condition = e))\n  .         }), tryCatchList(expr, classes, parentenv, handlers), \n  .     tryCatchOne(expr, names, parentenv, handlers[[1L]]), doTryCatch(return(expr), \n  .         name, parentenv, handler), withCallingHandlers(withVisible(eval(expr, \n  .         envir, enclos)), warning = wHandler, error = eHandler, \n  .         message = mHandler), withVisible(eval(expr, envir, enclos)), \n  .     eval(expr, envir, enclos), eval(expr, envir, enclos), honey1[, \n  .         1:5], `[.tbl_df`(honey1, , 1:5), vectbl_as_col_location(j, \n  .         length(x), names(x), j_arg = j_arg, assign = FALSE), \n  .     subclass_col_index_errors(vec_as_location(j, n, names), j_arg = j_arg, \n  .         assign = assign), withCallingHandlers(expr, vctrs_error_subscript = function(cnd) {\n  .         cnd$subscript_arg <- j_arg\n  .         cnd$subscript_elt <- \"column\"\n  .         if (isTRUE(assign) && !isTRUE(cnd$subscript_action %in% \n  .             c(\"negate\"))) {\n  .             cnd$subscript_action <- \"assign\"\n  .         }\n  .         cnd_signal(cnd)\n  .     }), vec_as_location(j, n, names), `<fn>`(), stop_subscript_oob(i = i, \n  .         subscript_type = subscript_type, size = size, subscript_action = subscript_action, \n  .         subscript_arg = subscript_arg), stop_subscript(class = \"vctrs_error_subscript_oob\", \n  .         i = i, subscript_type = subscript_type, ...), abort(class = c(class, \n  .         \"vctrs_error_subscript\"), i = i, ...)), parent = c(0L, \n  . 1L, 2L, 3L, 4L, 5L, 6L, 7L, 6L, 9L, 10L, 4L, 12L, 13L, 13L, 15L, \n  . 16L, 17L, 18L, 19L, 13L, 13L, 13L, 23L, 0L, 0L, 26L, 27L, 28L, \n  . 27L, 30L, 31L, 32L, 33L), visible = c(TRUE, TRUE, TRUE, TRUE, \n  . TRUE, TRUE, TRUE, TRUE, TRUE, TRUE, TRUE, TRUE, TRUE, TRUE, TRUE, \n  . TRUE, TRUE, TRUE, TRUE, TRUE, TRUE, TRUE, TRUE, TRUE, TRUE, TRUE, \n  . TRUE, TRUE, TRUE, TRUE, TRUE, TRUE, TRUE, FALSE), namespace = c(\"IRkernel\", \n  . NA, \"IRkernel\", NA, \"base\", \"base\", \"base\", \"base\", \"base\", \"base\", \n  . \"base\", \"evaluate\", \"evaluate\", \"evaluate\", \"evaluate\", \"base\", \n  . \"base\", \"base\", \"base\", \"base\", \"base\", \"base\", \"base\", \"base\", \n  . NA, \"tibble\", \"tibble\", \"tibble\", \"base\", \"vctrs\", \"vctrs\", \"vctrs\", \n  . \"vctrs\", \"rlang\"), scope = c(\"::\", NA, \"local\", NA, \"::\", \"local\", \n  . \"local\", \"local\", \"local\", \"local\", \"local\", \"::\", \":::\", \"local\", \n  . \"local\", \"::\", \"::\", \"local\", \"local\", \"local\", \"::\", \"::\", \"::\", \n  . \"::\", NA, \":::\", \":::\", \":::\", \"::\", \"::\", \"local\", \":::\", \":::\", \n  . \"::\")), row.names = c(NA, -34L), version = 2L, class = c(\"rlang_trace\", \n  . \"rlib_trace\", \"tbl\", \"data.frame\")), parent = NULL, i = 1:5, \n  .     subscript_type = \"numeric\", size = 4L, subscript_action = NULL, \n  .     subscript_arg = \"\", call = stop_subscript(class = \"vctrs_error_subscript_oob\", \n  .         i = i, subscript_type = subscript_type, ...)), class = c(\"vctrs_error_subscript_oob\", \n  . \"vctrs_error_subscript\", \"rlang_error\", \"error\", \"condition\")))",
      "14. cnd_signal(cnd)",
      "15. signal_abort(cnd)"
     ]
    }
   ],
   "source": [
    "## It turns out I do not need this\n",
    "#honey2 <- honey1[,1:5]\n",
    "#honey2$repdat <- honey1$totalprod\n",
    "#honey2$contrasts <- \"T1\""
   ]
  },
  {
   "cell_type": "code",
   "execution_count": 21,
   "id": "7611e27b",
   "metadata": {},
   "outputs": [
    {
     "ename": "ERROR",
     "evalue": "\u001b[1m\u001b[33mError\u001b[39m in \u001b[1m\u001b[1m\u001b[30m\u001b[47m\u001b[30m\u001b[47m`stop_subscript()`\u001b[47m\u001b[30m\u001b[49m\u001b[39m:\u001b[22m\n\u001b[33m!\u001b[39m Can't subset columns that don't exist.\n\u001b[31mx\u001b[39m Location 5 doesn't exist.\n\u001b[34mi\u001b[39m There are only 4 columns.\n",
     "output_type": "error",
     "traceback": [
      "\u001b[1m\u001b[33mError\u001b[39m in \u001b[1m\u001b[1m\u001b[30m\u001b[47m\u001b[30m\u001b[47m`stop_subscript()`\u001b[47m\u001b[30m\u001b[49m\u001b[39m:\u001b[22m\n\u001b[33m!\u001b[39m Can't subset columns that don't exist.\n\u001b[31mx\u001b[39m Location 5 doesn't exist.\n\u001b[34mi\u001b[39m There are only 4 columns.\nTraceback:\n",
      "1. honey1[, 1:5]",
      "2. `[.tbl_df`(honey1, , 1:5)",
      "3. vectbl_as_col_location(j, length(x), names(x), j_arg = j_arg, \n .     assign = FALSE)",
      "4. subclass_col_index_errors(vec_as_location(j, n, names), j_arg = j_arg, \n .     assign = assign)",
      "5. withCallingHandlers(expr, vctrs_error_subscript = function(cnd) {\n .     cnd$subscript_arg <- j_arg\n .     cnd$subscript_elt <- \"column\"\n .     if (isTRUE(assign) && !isTRUE(cnd$subscript_action %in% c(\"negate\"))) {\n .         cnd$subscript_action <- \"assign\"\n .     }\n .     cnd_signal(cnd)\n . })",
      "6. vec_as_location(j, n, names)",
      "7. (function () \n . stop_subscript_oob(i = i, subscript_type = subscript_type, size = size, \n .     subscript_action = subscript_action, subscript_arg = subscript_arg))()",
      "8. stop_subscript_oob(i = i, subscript_type = subscript_type, size = size, \n .     subscript_action = subscript_action, subscript_arg = subscript_arg)",
      "9. stop_subscript(class = \"vctrs_error_subscript_oob\", i = i, subscript_type = subscript_type, \n .     ...)",
      "10. abort(class = c(class, \"vctrs_error_subscript\"), i = i, ...)",
      "11. signal_abort(cnd, .file)",
      "12. signalCondition(cnd)",
      "13. (function (cnd) \n  . {\n  .     cnd$subscript_arg <- j_arg\n  .     cnd$subscript_elt <- \"column\"\n  .     if (isTRUE(assign) && !isTRUE(cnd$subscript_action %in% c(\"negate\"))) {\n  .         cnd$subscript_action <- \"assign\"\n  .     }\n  .     cnd_signal(cnd)\n  . })(structure(list(message = \"\", trace = structure(list(call = list(\n  .     IRkernel::main(), kernel$run(), handle_shell(), executor$execute(msg), \n  .     tryCatch(evaluate(request$content$code, envir = .GlobalEnv, \n  .         output_handler = oh, stop_on_error = 1L), interrupt = function(cond) {\n  .         log_debug(\"Interrupt during execution\")\n  .         interrupted <<- TRUE\n  .     }, error = .self$handle_error), tryCatchList(expr, classes, \n  .         parentenv, handlers), tryCatchOne(tryCatchList(expr, \n  .         names[-nh], parentenv, handlers[-nh]), names[nh], parentenv, \n  .         handlers[[nh]]), doTryCatch(return(expr), name, parentenv, \n  .         handler), tryCatchList(expr, names[-nh], parentenv, handlers[-nh]), \n  .     tryCatchOne(expr, names, parentenv, handlers[[1L]]), doTryCatch(return(expr), \n  .         name, parentenv, handler), evaluate(request$content$code, \n  .         envir = .GlobalEnv, output_handler = oh, stop_on_error = 1L), \n  .     evaluate_call(expr, parsed$src[[i]], envir = envir, enclos = enclos, \n  .         debug = debug, last = i == length(out), use_try = stop_on_error != \n  .             2L, keep_warning = keep_warning, keep_message = keep_message, \n  .         output_handler = output_handler, include_timing = include_timing), \n  .     timing_fn(handle(ev <- withCallingHandlers(withVisible(eval(expr, \n  .         envir, enclos)), warning = wHandler, error = eHandler, \n  .         message = mHandler))), handle(ev <- withCallingHandlers(withVisible(eval(expr, \n  .         envir, enclos)), warning = wHandler, error = eHandler, \n  .         message = mHandler)), try(f, silent = TRUE), tryCatch(expr, \n  .         error = function(e) {\n  .             call <- conditionCall(e)\n  .             if (!is.null(call)) {\n  .                 if (identical(call[[1L]], quote(doTryCatch))) \n  .                   call <- sys.call(-4L)\n  .                 dcall <- deparse(call)[1L]\n  .                 prefix <- paste(\"Error in\", dcall, \": \")\n  .                 LONG <- 75L\n  .                 sm <- strsplit(conditionMessage(e), \"\\n\")[[1L]]\n  .                 w <- 14L + nchar(dcall, type = \"w\") + nchar(sm[1L], \n  .                   type = \"w\")\n  .                 if (is.na(w)) \n  .                   w <- 14L + nchar(dcall, type = \"b\") + nchar(sm[1L], \n  .                     type = \"b\")\n  .                 if (w > LONG) \n  .                   prefix <- paste0(prefix, \"\\n  \")\n  .             }\n  .             else prefix <- \"Error : \"\n  .             msg <- paste0(prefix, conditionMessage(e), \"\\n\")\n  .             .Internal(seterrmessage(msg[1L]))\n  .             if (!silent && isTRUE(getOption(\"show.error.messages\"))) {\n  .                 cat(msg, file = outFile)\n  .                 .Internal(printDeferredWarnings())\n  .             }\n  .             invisible(structure(msg, class = \"try-error\", condition = e))\n  .         }), tryCatchList(expr, classes, parentenv, handlers), \n  .     tryCatchOne(expr, names, parentenv, handlers[[1L]]), doTryCatch(return(expr), \n  .         name, parentenv, handler), withCallingHandlers(withVisible(eval(expr, \n  .         envir, enclos)), warning = wHandler, error = eHandler, \n  .         message = mHandler), withVisible(eval(expr, envir, enclos)), \n  .     eval(expr, envir, enclos), eval(expr, envir, enclos), honey1[, \n  .         1:5], `[.tbl_df`(honey1, , 1:5), vectbl_as_col_location(j, \n  .         length(x), names(x), j_arg = j_arg, assign = FALSE), \n  .     subclass_col_index_errors(vec_as_location(j, n, names), j_arg = j_arg, \n  .         assign = assign), withCallingHandlers(expr, vctrs_error_subscript = function(cnd) {\n  .         cnd$subscript_arg <- j_arg\n  .         cnd$subscript_elt <- \"column\"\n  .         if (isTRUE(assign) && !isTRUE(cnd$subscript_action %in% \n  .             c(\"negate\"))) {\n  .             cnd$subscript_action <- \"assign\"\n  .         }\n  .         cnd_signal(cnd)\n  .     }), vec_as_location(j, n, names), `<fn>`(), stop_subscript_oob(i = i, \n  .         subscript_type = subscript_type, size = size, subscript_action = subscript_action, \n  .         subscript_arg = subscript_arg), stop_subscript(class = \"vctrs_error_subscript_oob\", \n  .         i = i, subscript_type = subscript_type, ...), abort(class = c(class, \n  .         \"vctrs_error_subscript\"), i = i, ...)), parent = c(0L, \n  . 1L, 2L, 3L, 4L, 5L, 6L, 7L, 6L, 9L, 10L, 4L, 12L, 13L, 13L, 15L, \n  . 16L, 17L, 18L, 19L, 13L, 13L, 13L, 23L, 0L, 0L, 26L, 27L, 28L, \n  . 27L, 30L, 31L, 32L, 33L), visible = c(TRUE, TRUE, TRUE, TRUE, \n  . TRUE, TRUE, TRUE, TRUE, TRUE, TRUE, TRUE, TRUE, TRUE, TRUE, TRUE, \n  . TRUE, TRUE, TRUE, TRUE, TRUE, TRUE, TRUE, TRUE, TRUE, TRUE, TRUE, \n  . TRUE, TRUE, TRUE, TRUE, TRUE, TRUE, TRUE, FALSE), namespace = c(\"IRkernel\", \n  . NA, \"IRkernel\", NA, \"base\", \"base\", \"base\", \"base\", \"base\", \"base\", \n  . \"base\", \"evaluate\", \"evaluate\", \"evaluate\", \"evaluate\", \"base\", \n  . \"base\", \"base\", \"base\", \"base\", \"base\", \"base\", \"base\", \"base\", \n  . NA, \"tibble\", \"tibble\", \"tibble\", \"base\", \"vctrs\", \"vctrs\", \"vctrs\", \n  . \"vctrs\", \"rlang\"), scope = c(\"::\", NA, \"local\", NA, \"::\", \"local\", \n  . \"local\", \"local\", \"local\", \"local\", \"local\", \"::\", \":::\", \"local\", \n  . \"local\", \"::\", \"::\", \"local\", \"local\", \"local\", \"::\", \"::\", \"::\", \n  . \"::\", NA, \":::\", \":::\", \":::\", \"::\", \"::\", \"local\", \":::\", \":::\", \n  . \"::\")), row.names = c(NA, -34L), version = 2L, class = c(\"rlang_trace\", \n  . \"rlib_trace\", \"tbl\", \"data.frame\")), parent = NULL, i = 1:5, \n  .     subscript_type = \"numeric\", size = 4L, subscript_action = NULL, \n  .     subscript_arg = \"\", call = stop_subscript(class = \"vctrs_error_subscript_oob\", \n  .         i = i, subscript_type = subscript_type, ...)), class = c(\"vctrs_error_subscript_oob\", \n  . \"vctrs_error_subscript\", \"rlang_error\", \"error\", \"condition\")))",
      "14. cnd_signal(cnd)",
      "15. signal_abort(cnd)"
     ]
    }
   ],
   "source": [
    "#Or this\n",
    "#honey3 <- honey1[,1:5]\n",
    "#honey3$repdat <- honey1$year\n",
    "#honey3$contrasts <- \"T1\""
   ]
  },
  {
   "cell_type": "code",
   "execution_count": 22,
   "id": "d334433b",
   "metadata": {},
   "outputs": [
    {
     "ename": "ERROR",
     "evalue": "Error in rbind(honey2, honey3): object 'honey2' not found\n",
     "output_type": "error",
     "traceback": [
      "Error in rbind(honey2, honey3): object 'honey2' not found\nTraceback:\n",
      "1. rbind(honey2, honey3)"
     ]
    }
   ],
   "source": [
    "# I did not need this as well.  \n",
    "#honey4 <- rbind(honey2, honey3)"
   ]
  },
  {
   "cell_type": "markdown",
   "id": "16da9c57",
   "metadata": {},
   "source": [
    "## Normality"
   ]
  },
  {
   "cell_type": "code",
   "execution_count": 23,
   "id": "38e994a5",
   "metadata": {},
   "outputs": [
    {
     "data": {
      "image/png": "[encoded data removed]",
      "text/plain": [
       "Plot with title \"\""
      ]
     },
     "metadata": {
      "image/png": {
       "height": 420,
       "width": 420
      }
     },
     "output_type": "display_data"
    }
   ],
   "source": [
    "plotNormalHistogram(honey1$totalprod)"
   ]
  },
  {
   "cell_type": "code",
   "execution_count": 30,
   "id": "aaa2f987",
   "metadata": {},
   "outputs": [
    {
     "data": {
      "image/png": "[encoded data removed]",
      "text/plain": [
       "Plot with title \"\""
      ]
     },
     "metadata": {
      "image/png": {
       "height": 420,
       "width": 420
      }
     },
     "output_type": "display_data"
    }
   ],
   "source": [
    "plotNormalHistogram(log(honey1$totalprod))"
   ]
  },
  {
   "cell_type": "code",
   "execution_count": 31,
   "id": "5a5416f1",
   "metadata": {},
   "outputs": [],
   "source": [
    "honey1$totalprodLOG<- log(honey1$totalprod)"
   ]
  },
  {
   "cell_type": "markdown",
   "id": "5cb0f678",
   "metadata": {},
   "source": [
    "### It became more normally distributed."
   ]
  },
  {
   "cell_type": "code",
   "execution_count": 9,
   "id": "982938c8",
   "metadata": {},
   "outputs": [],
   "source": [
    "honey1$year <- as.factor(honey$year)"
   ]
  },
  {
   "cell_type": "markdown",
   "id": "1c21ab96",
   "metadata": {},
   "source": [
    "### Passed the Assumption of homogenity of variance"
   ]
  },
  {
   "cell_type": "code",
   "execution_count": 32,
   "id": "1c118624",
   "metadata": {},
   "outputs": [
    {
     "data": {
      "text/html": [
       "<table class=\"dataframe\">\n",
       "<caption>A anova: 2 × 3</caption>\n",
       "<thead>\n",
       "\t<tr><th></th><th scope=col>Df</th><th scope=col>F value</th><th scope=col>Pr(&gt;F)</th></tr>\n",
       "\t<tr><th></th><th scope=col>&lt;int&gt;</th><th scope=col>&lt;dbl&gt;</th><th scope=col>&lt;dbl&gt;</th></tr>\n",
       "</thead>\n",
       "<tbody>\n",
       "\t<tr><th scope=row>group</th><td>  4</td><td>0.03178299</td><td>0.9980452</td></tr>\n",
       "\t<tr><th scope=row> </th><td>196</td><td>        NA</td><td>       NA</td></tr>\n",
       "</tbody>\n",
       "</table>\n"
      ],
      "text/latex": [
       "A anova: 2 × 3\n",
       "\\begin{tabular}{r|lll}\n",
       "  & Df & F value & Pr(>F)\\\\\n",
       "  & <int> & <dbl> & <dbl>\\\\\n",
       "\\hline\n",
       "\tgroup &   4 & 0.03178299 & 0.9980452\\\\\n",
       "\t  & 196 &         NA &        NA\\\\\n",
       "\\end{tabular}\n"
      ],
      "text/markdown": [
       "\n",
       "A anova: 2 × 3\n",
       "\n",
       "| <!--/--> | Df &lt;int&gt; | F value &lt;dbl&gt; | Pr(&gt;F) &lt;dbl&gt; |\n",
       "|---|---|---|---|\n",
       "| group |   4 | 0.03178299 | 0.9980452 |\n",
       "| <!----> | 196 |         NA |        NA |\n",
       "\n"
      ],
      "text/plain": [
       "      Df  F value    Pr(>F)   \n",
       "group   4 0.03178299 0.9980452\n",
       "      196         NA        NA"
      ]
     },
     "metadata": {},
     "output_type": "display_data"
    }
   ],
   "source": [
    "leveneTest(totalprodLOG ~ year, data=honey1)"
   ]
  },
  {
   "cell_type": "markdown",
   "id": "b426841a",
   "metadata": {},
   "source": [
    "## This did not work smoothly because I did not know which library to load since the one in the lesson is outdated. "
   ]
  },
  {
   "cell_type": "markdown",
   "id": "3f37bb8a",
   "metadata": {},
   "source": [
    "### FastR2 and dplyr did not work"
   ]
  },
  {
   "cell_type": "code",
   "execution_count": 33,
   "id": "f461e6cf",
   "metadata": {},
   "outputs": [],
   "source": [
    "RManova <- aov(totalprodLOG~year+Error(state), honey1)"
   ]
  },
  {
   "cell_type": "code",
   "execution_count": 14,
   "id": "fc08388b",
   "metadata": {},
   "outputs": [
    {
     "data": {
      "text/plain": [
       "\n",
       "Error: state\n",
       "          Df    Sum Sq   Mean Sq F value Pr(>F)\n",
       "year       1 1.265e+13 1.265e+13   0.054  0.817\n",
       "Residuals 39 9.076e+15 2.327e+14               \n",
       "\n",
       "Error: Within\n",
       "           Df    Sum Sq   Mean Sq F value Pr(>F)  \n",
       "year        4 2.065e+13 5.162e+12   2.329 0.0585 .\n",
       "Residuals 156 3.458e+14 2.217e+12                 \n",
       "---\n",
       "Signif. codes:  0 '***' 0.001 '**' 0.01 '*' 0.05 '.' 0.1 ' ' 1"
      ]
     },
     "metadata": {},
     "output_type": "display_data"
    }
   ],
   "source": [
    "summary(RManova)"
   ]
  },
  {
   "cell_type": "code",
   "execution_count": null,
   "id": "7aa79801",
   "metadata": {},
   "outputs": [],
   "source": []
  },
  {
   "cell_type": "markdown",
   "id": "168c9803",
   "metadata": {},
   "source": [
    "## Post Hoc"
   ]
  },
  {
   "cell_type": "code",
   "execution_count": null,
   "id": "4c4446d8",
   "metadata": {},
   "outputs": [],
   "source": [
    "# The pair t test was not suggested for this lesson but I tried it anyways."
   ]
  },
  {
   "cell_type": "code",
   "execution_count": 34,
   "id": "77314b2e",
   "metadata": {},
   "outputs": [
    {
     "data": {
      "text/plain": [
       "\n",
       "\tPairwise comparisons using t tests with pooled SD \n",
       "\n",
       "data:  honey1$totalprodLOG and honey1$state \n",
       "\n",
       "   AL AR AZ CA CO FL GA HI IA ID IL IN KS KY LA ME MI MN MO MS MT NC ND NE NJ\n",
       "AR -  -  -  -  -  -  -  -  -  -  -  -  -  -  -  -  -  -  -  -  -  -  -  -  - \n",
       "AZ -  -  -  -  -  -  -  -  -  -  -  -  -  -  -  -  -  -  -  -  -  -  -  -  - \n",
       "CA -  -  -  -  -  -  -  -  -  -  -  -  -  -  -  -  -  -  -  -  -  -  -  -  - \n",
       "CO -  -  -  -  -  -  -  -  -  -  -  -  -  -  -  -  -  -  -  -  -  -  -  -  - \n",
       "FL -  -  -  -  -  -  -  -  -  -  -  -  -  -  -  -  -  -  -  -  -  -  -  -  - \n",
       "GA -  -  -  -  -  -  -  -  -  -  -  -  -  -  -  -  -  -  -  -  -  -  -  -  - \n",
       "HI -  -  -  -  -  -  -  -  -  -  -  -  -  -  -  -  -  -  -  -  -  -  -  -  - \n",
       "IA -  -  -  -  -  -  -  -  -  -  -  -  -  -  -  -  -  -  -  -  -  -  -  -  - \n",
       "ID -  -  -  -  -  -  -  -  -  -  -  -  -  -  -  -  -  -  -  -  -  -  -  -  - \n",
       "IL -  -  -  -  -  -  -  -  -  -  -  -  -  -  -  -  -  -  -  -  -  -  -  -  - \n",
       "IN -  -  -  -  -  -  -  -  -  -  -  -  -  -  -  -  -  -  -  -  -  -  -  -  - \n",
       "KS -  -  -  -  -  -  -  -  -  -  -  -  -  -  -  -  -  -  -  -  -  -  -  -  - \n",
       "KY -  -  -  -  -  -  -  -  -  -  -  -  -  -  -  -  -  -  -  -  -  -  -  -  - \n",
       "LA -  -  -  -  -  -  -  -  -  -  -  -  -  -  -  -  -  -  -  -  -  -  -  -  - \n",
       "ME -  -  -  -  -  -  -  -  -  -  -  -  -  -  -  -  -  -  -  -  -  -  -  -  - \n",
       "MI -  -  -  -  -  -  -  -  -  -  -  -  -  -  -  -  -  -  -  -  -  -  -  -  - \n",
       "MN -  -  -  -  -  -  -  -  -  -  -  -  -  -  -  -  -  -  -  -  -  -  -  -  - \n",
       "MO -  -  -  -  -  -  -  -  -  -  -  -  -  -  -  -  -  -  -  -  -  -  -  -  - \n",
       "MS -  -  -  -  -  -  -  -  -  -  -  -  -  -  -  -  -  -  -  -  -  -  -  -  - \n",
       "MT -  -  -  -  -  -  -  -  -  -  -  -  -  -  -  -  -  -  -  -  -  -  -  -  - \n",
       "NC -  -  -  -  -  -  -  -  -  -  -  -  -  -  -  -  -  -  -  -  -  -  -  -  - \n",
       "ND -  -  -  -  -  -  -  -  -  -  -  -  -  -  -  -  -  -  -  -  -  -  -  -  - \n",
       "NE -  -  -  -  -  -  -  -  -  -  -  -  -  -  -  -  -  -  -  -  -  -  -  -  - \n",
       "NJ -  -  -  -  -  -  -  -  -  -  -  -  -  -  -  -  -  -  -  -  -  -  -  -  - \n",
       "NM -  -  -  -  -  -  -  -  -  -  -  -  -  -  -  -  -  -  -  -  -  -  -  -  - \n",
       "NV -  -  -  -  -  -  -  -  -  -  -  -  -  -  -  -  -  -  -  -  -  -  -  -  - \n",
       "NY -  -  -  -  -  -  -  -  -  -  -  -  -  -  -  -  -  -  -  -  -  -  -  -  - \n",
       "OH -  -  -  -  -  -  -  -  -  -  -  -  -  -  -  -  -  -  -  -  -  -  -  -  - \n",
       "OR -  -  -  -  -  -  -  -  -  -  -  -  -  -  -  -  -  -  -  -  -  -  -  -  - \n",
       "PA -  -  -  -  -  -  -  -  -  -  -  -  -  -  -  -  -  -  -  -  -  -  -  -  - \n",
       "SD -  -  -  -  -  -  -  -  -  -  -  -  -  -  -  -  -  -  -  -  -  -  -  -  - \n",
       "TN -  -  -  -  -  -  -  -  -  -  -  -  -  -  -  -  -  -  -  -  -  -  -  -  - \n",
       "TX -  -  -  -  -  -  -  -  -  -  -  -  -  -  -  -  -  -  -  -  -  -  -  -  - \n",
       "UT -  -  -  -  -  -  -  -  -  -  -  -  -  -  -  -  -  -  -  -  -  -  -  -  - \n",
       "VA -  -  -  -  -  -  -  -  -  -  -  -  -  -  -  -  -  -  -  -  -  -  -  -  - \n",
       "VT -  -  -  -  -  -  -  -  -  -  -  -  -  -  -  -  -  -  -  -  -  -  -  -  - \n",
       "WA -  -  -  -  -  -  -  -  -  -  -  -  -  -  -  -  -  -  -  -  -  -  -  -  - \n",
       "WI -  -  -  -  -  -  -  -  -  -  -  -  -  -  -  -  -  -  -  -  -  -  -  -  - \n",
       "WV -  -  -  -  -  -  -  -  -  -  -  -  -  -  -  -  -  -  -  -  -  -  -  -  - \n",
       "WY -  -  -  -  -  -  -  -  -  -  -  -  -  -  -  -  -  -  -  -  -  -  -  -  - \n",
       "   NM NV NY OH OR PA SD TN TX UT VA VT WA WI WV\n",
       "AR -  -  -  -  -  -  -  -  -  -  -  -  -  -  - \n",
       "AZ -  -  -  -  -  -  -  -  -  -  -  -  -  -  - \n",
       "CA -  -  -  -  -  -  -  -  -  -  -  -  -  -  - \n",
       "CO -  -  -  -  -  -  -  -  -  -  -  -  -  -  - \n",
       "FL -  -  -  -  -  -  -  -  -  -  -  -  -  -  - \n",
       "GA -  -  -  -  -  -  -  -  -  -  -  -  -  -  - \n",
       "HI -  -  -  -  -  -  -  -  -  -  -  -  -  -  - \n",
       "IA -  -  -  -  -  -  -  -  -  -  -  -  -  -  - \n",
       "ID -  -  -  -  -  -  -  -  -  -  -  -  -  -  - \n",
       "IL -  -  -  -  -  -  -  -  -  -  -  -  -  -  - \n",
       "IN -  -  -  -  -  -  -  -  -  -  -  -  -  -  - \n",
       "KS -  -  -  -  -  -  -  -  -  -  -  -  -  -  - \n",
       "KY -  -  -  -  -  -  -  -  -  -  -  -  -  -  - \n",
       "LA -  -  -  -  -  -  -  -  -  -  -  -  -  -  - \n",
       "ME -  -  -  -  -  -  -  -  -  -  -  -  -  -  - \n",
       "MI -  -  -  -  -  -  -  -  -  -  -  -  -  -  - \n",
       "MN -  -  -  -  -  -  -  -  -  -  -  -  -  -  - \n",
       "MO -  -  -  -  -  -  -  -  -  -  -  -  -  -  - \n",
       "MS -  -  -  -  -  -  -  -  -  -  -  -  -  -  - \n",
       "MT -  -  -  -  -  -  -  -  -  -  -  -  -  -  - \n",
       "NC -  -  -  -  -  -  -  -  -  -  -  -  -  -  - \n",
       "ND -  -  -  -  -  -  -  -  -  -  -  -  -  -  - \n",
       "NE -  -  -  -  -  -  -  -  -  -  -  -  -  -  - \n",
       "NJ -  -  -  -  -  -  -  -  -  -  -  -  -  -  - \n",
       "NM -  -  -  -  -  -  -  -  -  -  -  -  -  -  - \n",
       "NV -  -  -  -  -  -  -  -  -  -  -  -  -  -  - \n",
       "NY -  -  -  -  -  -  -  -  -  -  -  -  -  -  - \n",
       "OH -  -  -  -  -  -  -  -  -  -  -  -  -  -  - \n",
       "OR -  -  -  -  -  -  -  -  -  -  -  -  -  -  - \n",
       "PA -  -  -  -  -  -  -  -  -  -  -  -  -  -  - \n",
       "SD -  -  -  -  -  -  -  -  -  -  -  -  -  -  - \n",
       "TN -  -  -  -  -  -  -  -  -  -  -  -  -  -  - \n",
       "TX -  -  -  -  -  -  -  -  -  -  -  -  -  -  - \n",
       "UT -  -  -  -  -  -  -  -  -  -  -  -  -  -  - \n",
       "VA -  -  -  -  -  -  -  -  -  -  -  -  -  -  - \n",
       "VT -  -  -  -  -  -  -  -  -  -  -  -  -  -  - \n",
       "WA -  -  -  -  -  -  -  -  -  -  -  -  -  -  - \n",
       "WI -  -  -  -  -  -  -  -  -  -  -  -  -  -  - \n",
       "WV -  -  -  -  -  -  -  -  -  -  -  -  -  -  - \n",
       "WY -  -  -  -  -  -  -  -  -  -  -  -  -  -  - \n",
       "\n",
       "P value adjustment method: bonferroni "
      ]
     },
     "metadata": {},
     "output_type": "display_data"
    }
   ],
   "source": [
    "pairwise.t.test(honey1$totalprodLOG, honey1$state, p.adjust=\"bonferroni\")"
   ]
  },
  {
   "cell_type": "markdown",
   "id": "a3d0028f",
   "metadata": {},
   "source": [
    "## Mean to find out more about the relationship between the data."
   ]
  },
  {
   "cell_type": "code",
   "execution_count": 35,
   "id": "11f793d6",
   "metadata": {},
   "outputs": [],
   "source": [
    "honeyMeans <- honey1 %>% group_by(state) %>% summarize(Mean = mean(totalprodLOG)) %>% arrange(desc(Mean))"
   ]
  },
  {
   "cell_type": "code",
   "execution_count": 26,
   "id": "010d7238",
   "metadata": {},
   "outputs": [
    {
     "data": {
      "text/html": [
       "<table class=\"dataframe\">\n",
       "<caption>A tibble: 41 × 2</caption>\n",
       "<thead>\n",
       "\t<tr><th scope=col>state</th><th scope=col>Mean</th></tr>\n",
       "\t<tr><th scope=col>&lt;chr&gt;</th><th scope=col>&lt;dbl&gt;</th></tr>\n",
       "</thead>\n",
       "<tbody>\n",
       "\t<tr><td>ND</td><td>36568000</td></tr>\n",
       "\t<tr><td>SD</td><td>17489000</td></tr>\n",
       "\t<tr><td>CA</td><td>17371000</td></tr>\n",
       "\t<tr><td>FL</td><td>12108400</td></tr>\n",
       "\t<tr><td>MT</td><td>10419600</td></tr>\n",
       "\t<tr><td>MN</td><td> 8125800</td></tr>\n",
       "\t<tr><td>TX</td><td> 5408600</td></tr>\n",
       "\t<tr><td>MI</td><td> 4431600</td></tr>\n",
       "\t<tr><td>WI</td><td> 4049400</td></tr>\n",
       "\t<tr><td>ID</td><td> 3406600</td></tr>\n",
       "\t<tr><td>LA</td><td> 3213800</td></tr>\n",
       "\t<tr><td>GA</td><td> 3122800</td></tr>\n",
       "\t<tr><td>NY</td><td> 2930000</td></tr>\n",
       "\t<tr><td>WA</td><td> 2550200</td></tr>\n",
       "\t<tr><td>NE</td><td> 2513800</td></tr>\n",
       "\t<tr><td>OR</td><td> 2056200</td></tr>\n",
       "\t<tr><td>WY</td><td> 1963800</td></tr>\n",
       "\t<tr><td>MS</td><td> 1718000</td></tr>\n",
       "\t<tr><td>AR</td><td> 1590200</td></tr>\n",
       "\t<tr><td>IA</td><td> 1542000</td></tr>\n",
       "\t<tr><td>CO</td><td> 1501600</td></tr>\n",
       "\t<tr><td>AZ</td><td> 1343800</td></tr>\n",
       "\t<tr><td>PA</td><td> 1014000</td></tr>\n",
       "\t<tr><td>UT</td><td>  991800</td></tr>\n",
       "\t<tr><td>OH</td><td>  895600</td></tr>\n",
       "\t<tr><td>HI</td><td>  807200</td></tr>\n",
       "\t<tr><td>NC</td><td>  618400</td></tr>\n",
       "\t<tr><td>AL</td><td>  482400</td></tr>\n",
       "\t<tr><td>MO</td><td>  477400</td></tr>\n",
       "\t<tr><td>KS</td><td>  456600</td></tr>\n",
       "\t<tr><td>NJ</td><td>  416000</td></tr>\n",
       "\t<tr><td>IN</td><td>  413400</td></tr>\n",
       "\t<tr><td>TN</td><td>  392400</td></tr>\n",
       "\t<tr><td>IL</td><td>  373200</td></tr>\n",
       "\t<tr><td>NM</td><td>  364400</td></tr>\n",
       "\t<tr><td>NV</td><td>  290000</td></tr>\n",
       "\t<tr><td>VT</td><td>  249400</td></tr>\n",
       "\t<tr><td>WV</td><td>  228600</td></tr>\n",
       "\t<tr><td>KY</td><td>  215400</td></tr>\n",
       "\t<tr><td>ME</td><td>  211000</td></tr>\n",
       "\t<tr><td>VA</td><td>  199000</td></tr>\n",
       "</tbody>\n",
       "</table>\n"
      ],
      "text/latex": [
       "A tibble: 41 × 2\n",
       "\\begin{tabular}{ll}\n",
       " state & Mean\\\\\n",
       " <chr> & <dbl>\\\\\n",
       "\\hline\n",
       "\t ND & 36568000\\\\\n",
       "\t SD & 17489000\\\\\n",
       "\t CA & 17371000\\\\\n",
       "\t FL & 12108400\\\\\n",
       "\t MT & 10419600\\\\\n",
       "\t MN &  8125800\\\\\n",
       "\t TX &  5408600\\\\\n",
       "\t MI &  4431600\\\\\n",
       "\t WI &  4049400\\\\\n",
       "\t ID &  3406600\\\\\n",
       "\t LA &  3213800\\\\\n",
       "\t GA &  3122800\\\\\n",
       "\t NY &  2930000\\\\\n",
       "\t WA &  2550200\\\\\n",
       "\t NE &  2513800\\\\\n",
       "\t OR &  2056200\\\\\n",
       "\t WY &  1963800\\\\\n",
       "\t MS &  1718000\\\\\n",
       "\t AR &  1590200\\\\\n",
       "\t IA &  1542000\\\\\n",
       "\t CO &  1501600\\\\\n",
       "\t AZ &  1343800\\\\\n",
       "\t PA &  1014000\\\\\n",
       "\t UT &   991800\\\\\n",
       "\t OH &   895600\\\\\n",
       "\t HI &   807200\\\\\n",
       "\t NC &   618400\\\\\n",
       "\t AL &   482400\\\\\n",
       "\t MO &   477400\\\\\n",
       "\t KS &   456600\\\\\n",
       "\t NJ &   416000\\\\\n",
       "\t IN &   413400\\\\\n",
       "\t TN &   392400\\\\\n",
       "\t IL &   373200\\\\\n",
       "\t NM &   364400\\\\\n",
       "\t NV &   290000\\\\\n",
       "\t VT &   249400\\\\\n",
       "\t WV &   228600\\\\\n",
       "\t KY &   215400\\\\\n",
       "\t ME &   211000\\\\\n",
       "\t VA &   199000\\\\\n",
       "\\end{tabular}\n"
      ],
      "text/markdown": [
       "\n",
       "A tibble: 41 × 2\n",
       "\n",
       "| state &lt;chr&gt; | Mean &lt;dbl&gt; |\n",
       "|---|---|\n",
       "| ND | 36568000 |\n",
       "| SD | 17489000 |\n",
       "| CA | 17371000 |\n",
       "| FL | 12108400 |\n",
       "| MT | 10419600 |\n",
       "| MN |  8125800 |\n",
       "| TX |  5408600 |\n",
       "| MI |  4431600 |\n",
       "| WI |  4049400 |\n",
       "| ID |  3406600 |\n",
       "| LA |  3213800 |\n",
       "| GA |  3122800 |\n",
       "| NY |  2930000 |\n",
       "| WA |  2550200 |\n",
       "| NE |  2513800 |\n",
       "| OR |  2056200 |\n",
       "| WY |  1963800 |\n",
       "| MS |  1718000 |\n",
       "| AR |  1590200 |\n",
       "| IA |  1542000 |\n",
       "| CO |  1501600 |\n",
       "| AZ |  1343800 |\n",
       "| PA |  1014000 |\n",
       "| UT |   991800 |\n",
       "| OH |   895600 |\n",
       "| HI |   807200 |\n",
       "| NC |   618400 |\n",
       "| AL |   482400 |\n",
       "| MO |   477400 |\n",
       "| KS |   456600 |\n",
       "| NJ |   416000 |\n",
       "| IN |   413400 |\n",
       "| TN |   392400 |\n",
       "| IL |   373200 |\n",
       "| NM |   364400 |\n",
       "| NV |   290000 |\n",
       "| VT |   249400 |\n",
       "| WV |   228600 |\n",
       "| KY |   215400 |\n",
       "| ME |   211000 |\n",
       "| VA |   199000 |\n",
       "\n"
      ],
      "text/plain": [
       "   state Mean    \n",
       "1  ND    36568000\n",
       "2  SD    17489000\n",
       "3  CA    17371000\n",
       "4  FL    12108400\n",
       "5  MT    10419600\n",
       "6  MN     8125800\n",
       "7  TX     5408600\n",
       "8  MI     4431600\n",
       "9  WI     4049400\n",
       "10 ID     3406600\n",
       "11 LA     3213800\n",
       "12 GA     3122800\n",
       "13 NY     2930000\n",
       "14 WA     2550200\n",
       "15 NE     2513800\n",
       "16 OR     2056200\n",
       "17 WY     1963800\n",
       "18 MS     1718000\n",
       "19 AR     1590200\n",
       "20 IA     1542000\n",
       "21 CO     1501600\n",
       "22 AZ     1343800\n",
       "23 PA     1014000\n",
       "24 UT      991800\n",
       "25 OH      895600\n",
       "26 HI      807200\n",
       "27 NC      618400\n",
       "28 AL      482400\n",
       "29 MO      477400\n",
       "30 KS      456600\n",
       "31 NJ      416000\n",
       "32 IN      413400\n",
       "33 TN      392400\n",
       "34 IL      373200\n",
       "35 NM      364400\n",
       "36 NV      290000\n",
       "37 VT      249400\n",
       "38 WV      228600\n",
       "39 KY      215400\n",
       "40 ME      211000\n",
       "41 VA      199000"
      ]
     },
     "metadata": {},
     "output_type": "display_data"
    }
   ],
   "source": [
    "honeyMeans"
   ]
  },
  {
   "cell_type": "code",
   "execution_count": null,
   "id": "34308780",
   "metadata": {},
   "outputs": [],
   "source": [
    "# Conclusion: North Dakota has the most honey production with little change over the years."
   ]
  }
 ],
 "metadata": {
  "kernelspec": {
   "display_name": "R",
   "language": "R",
   "name": "ir"
  },
  "language_info": {
   "codemirror_mode": "r",
   "file_extension": ".r",
   "mimetype": "text/x-r-source",
   "name": "R",
   "pygments_lexer": "r",
   "version": "4.1.1"
  }
 },
 "nbformat": 4,
 "nbformat_minor": 5
}
